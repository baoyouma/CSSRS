{
 "cells": [
  {
   "cell_type": "code",
   "execution_count": null,
   "id": "aaeb67fc-4fec-4697-bb43-79170e52c09d",
   "metadata": {
    "tags": []
   },
   "outputs": [],
   "source": [
    "#Installation."
   ]
  },
  {
   "cell_type": "code",
   "execution_count": null,
   "id": "40615353-36e4-4dcc-bac4-5b9ec596ba59",
   "metadata": {},
   "outputs": [],
   "source": [
    "!pip install -r requirements.txt"
   ]
  },
  {
   "cell_type": "code",
   "execution_count": null,
   "id": "3d4ed959-3c0e-4ba0-a301-e88cfb4bec0f",
   "metadata": {},
   "outputs": [],
   "source": [
    "#Find and delete redundant files."
   ]
  },
  {
   "cell_type": "code",
   "execution_count": null,
   "id": "2b833fb9-32fb-42ea-96cd-ad5c21c6c047",
   "metadata": {
    "tags": []
   },
   "outputs": [],
   "source": [
    "!find . -iname '.ipynb_checkpoints'"
   ]
  },
  {
   "cell_type": "code",
   "execution_count": null,
   "id": "75cf8a3d-6bc9-431d-b17b-5eb80b5522f8",
   "metadata": {},
   "outputs": [],
   "source": [
    "!for i in `find . -iname '.ipynb_checkpoints'`; do rm -rf $i;done"
   ]
  },
  {
   "cell_type": "code",
   "execution_count": null,
   "id": "867290e9-f4cd-42b7-b573-c7e1464c0def",
   "metadata": {},
   "outputs": [],
   "source": [
    "!find . -iname '.ipynb_checkpoints'"
   ]
  },
  {
   "cell_type": "code",
   "execution_count": null,
   "id": "c28a5eaf-9c47-4edd-9f47-72e10939972f",
   "metadata": {},
   "outputs": [],
   "source": [
    "#Training can be carried out according to the code in the following line."
   ]
  },
  {
   "cell_type": "code",
   "execution_count": null,
   "id": "fb5492c4-ee79-40dc-a269-9ecb82b78176",
   "metadata": {
    "tags": []
   },
   "outputs": [],
   "source": [
    "!python train.py --dataroot ./datasets/55rsim --name pore2background_5rsim2023228test --model rsimdcl"
   ]
  },
  {
   "cell_type": "code",
   "execution_count": null,
   "id": "d634b1cb-d2a7-447a-bfa6-733dcac6c3f9",
   "metadata": {},
   "outputs": [],
   "source": [
    "#Style conversion of the test image."
   ]
  },
  {
   "cell_type": "code",
   "execution_count": null,
   "id": "ac9f80af-008c-4d7c-9e0f-960863ab3950",
   "metadata": {
    "tags": []
   },
   "outputs": [],
   "source": [
    "!python test.py --dataroot ./datasets/pore2background --name pore2background_5rsim"
   ]
  }
 ],
 "metadata": {
  "kernelspec": {
   "display_name": "Python 3 (ipykernel)",
   "language": "python",
   "name": "python3"
  },
  "language_info": {
   "codemirror_mode": {
    "name": "ipython",
    "version": 3
   },
   "file_extension": ".py",
   "mimetype": "text/x-python",
   "name": "python",
   "nbconvert_exporter": "python",
   "pygments_lexer": "ipython3",
   "version": "3.7.10"
  }
 },
 "nbformat": 4,
 "nbformat_minor": 5
}
